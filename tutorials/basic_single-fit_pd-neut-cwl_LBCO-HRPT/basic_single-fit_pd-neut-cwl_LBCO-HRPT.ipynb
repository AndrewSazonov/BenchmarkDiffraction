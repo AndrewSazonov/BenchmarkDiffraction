{
  "cells": [
    {
      "cell_type": "code",
      "execution_count": 10,
      "id": "8fc9aa63",
      "metadata": {
        "tags": [
          "hide-in-docs"
        ],
        "id": "8fc9aa63"
      },
      "outputs": [],
      "source": [
        "# Check if the easydiffraction library is installed.\n",
        "# If not, install it including the 'visualization' extras.\n",
        "# This is needed, e.g., when running this as a notebook via Google Colab or\n",
        "# Jupyter Notebook in an environment where the library is not pre-installed.\n",
        "import sys\n",
        "import importlib.util\n",
        "import subprocess\n",
        "\n",
        "# Install required packages if missing\n",
        "for dep in [\"nglview\", \"ase\"]:\n",
        "    if importlib.util.find_spec(dep) is None:\n",
        "        subprocess.check_call([sys.executable, \"-m\", \"pip\", \"install\", dep])\n",
        "\n",
        "# Support for third party widgets (widgets outside of the ipywidgets package)\n",
        "from google.colab import output\n",
        "output.enable_custom_widget_manager()"
      ]
    },
    {
      "cell_type": "code",
      "source": [
        "import nglview as nv\n",
        "from ase.spacegroup import crystal\n",
        "\n",
        "# Create a sample crystal structure\n",
        "atoms = crystal('C', [(0, 0, 0)], spacegroup=227, cellpar=[3.567, 3.567, 3.567, 90, 90, 90])\n",
        "\n",
        "# Show it\n",
        "nv.show_ase(atoms)\n"
      ],
      "metadata": {
        "id": "9zp0MoTBntZL",
        "outputId": "5e713ca4-93dd-473a-9355-b8a2af441d9e",
        "colab": {
          "base_uri": "https://localhost:8080/",
          "height": 16,
          "referenced_widgets": [
            "62ee3f82157847d387e8547957bd79dd",
            "6b9e6b7205de450b90f82236482f591b",
            "4d1f6b47ee764e779ac5737587b32f31",
            "95cf3276c0d14695876b14cea3c1c49b",
            "a2bac9a8f9d74e70836d2a860781d827",
            "76d0c9f6c2764308a58d997ad3311570",
            "f164d2465cb64991966e12f2e0561557"
          ]
        }
      },
      "id": "9zp0MoTBntZL",
      "execution_count": 12,
      "outputs": [
        {
          "output_type": "display_data",
          "data": {
            "text/plain": [
              "NGLWidget()"
            ],
            "application/vnd.jupyter.widget-view+json": {
              "version_major": 2,
              "version_minor": 0,
              "model_id": "62ee3f82157847d387e8547957bd79dd"
            }
          },
          "metadata": {}
        }
      ]
    },
    {
      "cell_type": "markdown",
      "id": "0",
      "metadata": {
        "id": "0"
      },
      "source": [
        "# Structure Refinement: LBCO, HRPT\n",
        "\n",
        "This example demonstrates how to use the EasyDiffraction API in a\n",
        "simplified, user-friendly manner that closely follows the GUI workflow for a\n",
        "Rietveld refinement of La0.5Ba0.5CoO3 crystal structure using constant\n",
        "wavelength neutron powder diffraction data from HRPT at PSI.\n",
        "\n",
        "It is intended for users with minimal programming experience who want to\n",
        "learn how to perform standard crystal structure fitting using diffraction\n",
        "data. This script covers creating a project, adding sample models and\n",
        "experiments, performing analysis, and refining parameters.\n",
        "\n",
        "Only a single import of `easydiffraction` is required, and all operations are\n",
        "performed through high-level components of the `project` object, such as\n",
        "`project.sample_models`, `project.experiments`, and `project.analysis`.\n",
        "The `project` object is the main container for all information."
      ]
    },
    {
      "cell_type": "markdown",
      "id": "1",
      "metadata": {
        "id": "1"
      },
      "source": [
        "## Import Library"
      ]
    },
    {
      "cell_type": "code",
      "execution_count": null,
      "id": "2",
      "metadata": {
        "id": "2"
      },
      "outputs": [],
      "source": [
        "import easydiffraction as ed"
      ]
    },
    {
      "cell_type": "markdown",
      "id": "3",
      "metadata": {
        "id": "3"
      },
      "source": [
        "## Step 1: Create a Project\n",
        "\n",
        "This section explains how to create a project and define its metadata."
      ]
    },
    {
      "cell_type": "markdown",
      "id": "4",
      "metadata": {
        "id": "4"
      },
      "source": [
        "#### Create Project"
      ]
    },
    {
      "cell_type": "code",
      "execution_count": null,
      "id": "5",
      "metadata": {
        "id": "5"
      },
      "outputs": [],
      "source": [
        "project = ed.Project(name='lbco_hrpt')"
      ]
    },
    {
      "cell_type": "markdown",
      "id": "6",
      "metadata": {
        "id": "6"
      },
      "source": [
        "#### Set Project Metadata"
      ]
    },
    {
      "cell_type": "code",
      "execution_count": null,
      "id": "7",
      "metadata": {
        "id": "7"
      },
      "outputs": [],
      "source": [
        "project.info.title = 'La0.5Ba0.5CoO3 at HRPT@PSI'\n",
        "project.info.description = \"\"\"This project demonstrates a standard\n",
        "refinement of La0.5Ba0.5CoO3, which crystallizes in a perovskite-type\n",
        "structure, using neutron powder diffraction data collected in constant\n",
        "wavelength mode at the HRPT diffractometer (PSI).\"\"\""
      ]
    },
    {
      "cell_type": "markdown",
      "id": "8",
      "metadata": {
        "id": "8"
      },
      "source": [
        "#### Show Project Metadata as CIF"
      ]
    },
    {
      "cell_type": "code",
      "execution_count": null,
      "id": "9",
      "metadata": {
        "id": "9"
      },
      "outputs": [],
      "source": [
        "project.info.show_as_cif()"
      ]
    },
    {
      "cell_type": "markdown",
      "id": "10",
      "metadata": {
        "id": "10"
      },
      "source": [
        "#### Save Project\n",
        "\n",
        "When saving the project for the first time, you need to specify the\n",
        "directory path. In the example below, the project is saved to a\n",
        "temporary location defined by the system."
      ]
    },
    {
      "cell_type": "code",
      "execution_count": null,
      "id": "11",
      "metadata": {
        "id": "11"
      },
      "outputs": [],
      "source": [
        "project.save_as(dir_path='lbco_hrpt', temporary=True)"
      ]
    },
    {
      "cell_type": "markdown",
      "id": "12",
      "metadata": {
        "id": "12"
      },
      "source": [
        "#### Set Up Data Plotter"
      ]
    },
    {
      "cell_type": "markdown",
      "id": "13",
      "metadata": {
        "id": "13"
      },
      "source": [
        "Show supported plotting engines."
      ]
    },
    {
      "cell_type": "code",
      "execution_count": null,
      "id": "14",
      "metadata": {
        "id": "14"
      },
      "outputs": [],
      "source": [
        "project.plotter.show_supported_engines()"
      ]
    },
    {
      "cell_type": "markdown",
      "id": "15",
      "metadata": {
        "id": "15"
      },
      "source": [
        "Show current plotting configuration."
      ]
    },
    {
      "cell_type": "code",
      "execution_count": null,
      "id": "16",
      "metadata": {
        "id": "16"
      },
      "outputs": [],
      "source": [
        "project.plotter.show_config()"
      ]
    },
    {
      "cell_type": "markdown",
      "id": "17",
      "metadata": {
        "id": "17"
      },
      "source": [
        "Set plotting engine."
      ]
    },
    {
      "cell_type": "code",
      "execution_count": null,
      "id": "18",
      "metadata": {
        "id": "18"
      },
      "outputs": [],
      "source": [
        "project.plotter.engine = 'plotly'"
      ]
    },
    {
      "cell_type": "markdown",
      "id": "19",
      "metadata": {
        "id": "19"
      },
      "source": [
        "## Step 2: Define Sample Model\n",
        "\n",
        "This section shows how to add sample models and modify their parameters."
      ]
    },
    {
      "cell_type": "markdown",
      "id": "20",
      "metadata": {
        "id": "20"
      },
      "source": [
        "#### Add Sample Model"
      ]
    },
    {
      "cell_type": "code",
      "execution_count": null,
      "id": "21",
      "metadata": {
        "id": "21"
      },
      "outputs": [],
      "source": [
        "project.sample_models.add(name='lbco')"
      ]
    },
    {
      "cell_type": "markdown",
      "id": "22",
      "metadata": {
        "id": "22"
      },
      "source": [
        "#### Show Defined Sample Models\n",
        "\n",
        "Show the names of the models added. These names are used to access the\n",
        "model using the syntax: `project.sample_models['model_name']`. All model\n",
        "parameters can be accessed via the `project` object."
      ]
    },
    {
      "cell_type": "code",
      "execution_count": null,
      "id": "23",
      "metadata": {
        "id": "23"
      },
      "outputs": [],
      "source": [
        "project.sample_models.show_names()"
      ]
    },
    {
      "cell_type": "markdown",
      "id": "24",
      "metadata": {
        "id": "24"
      },
      "source": [
        "#### Set Space Group\n",
        "\n",
        "Modify the default space group parameters."
      ]
    },
    {
      "cell_type": "code",
      "execution_count": null,
      "id": "25",
      "metadata": {
        "id": "25"
      },
      "outputs": [],
      "source": [
        "project.sample_models['lbco'].space_group.name_h_m = 'P m -3 m'\n",
        "project.sample_models['lbco'].space_group.it_coordinate_system_code = '1'"
      ]
    },
    {
      "cell_type": "markdown",
      "id": "26",
      "metadata": {
        "id": "26"
      },
      "source": [
        "#### Set Unit Cell\n",
        "\n",
        "Modify the default unit cell parameters."
      ]
    },
    {
      "cell_type": "code",
      "execution_count": null,
      "id": "27",
      "metadata": {
        "id": "27"
      },
      "outputs": [],
      "source": [
        "project.sample_models['lbco'].cell.length_a = 3.88"
      ]
    },
    {
      "cell_type": "markdown",
      "id": "28",
      "metadata": {
        "id": "28"
      },
      "source": [
        "#### Set Atom Sites\n",
        "\n",
        "Add atom sites to the sample model."
      ]
    },
    {
      "cell_type": "code",
      "execution_count": null,
      "id": "29",
      "metadata": {
        "id": "29"
      },
      "outputs": [],
      "source": [
        "project.sample_models['lbco'].atom_sites.add(\n",
        "    label='La',\n",
        "    type_symbol='La',\n",
        "    fract_x=0,\n",
        "    fract_y=0,\n",
        "    fract_z=0,\n",
        "    wyckoff_letter='a',\n",
        "    b_iso=0.5,\n",
        "    occupancy=0.5,\n",
        ")\n",
        "project.sample_models['lbco'].atom_sites.add(\n",
        "    label='Ba',\n",
        "    type_symbol='Ba',\n",
        "    fract_x=0,\n",
        "    fract_y=0,\n",
        "    fract_z=0,\n",
        "    wyckoff_letter='a',\n",
        "    b_iso=0.5,\n",
        "    occupancy=0.5,\n",
        ")\n",
        "project.sample_models['lbco'].atom_sites.add(\n",
        "    label='Co',\n",
        "    type_symbol='Co',\n",
        "    fract_x=0.5,\n",
        "    fract_y=0.5,\n",
        "    fract_z=0.5,\n",
        "    wyckoff_letter='b',\n",
        "    b_iso=0.5,\n",
        ")\n",
        "project.sample_models['lbco'].atom_sites.add(\n",
        "    label='O',\n",
        "    type_symbol='O',\n",
        "    fract_x=0,\n",
        "    fract_y=0.5,\n",
        "    fract_z=0.5,\n",
        "    wyckoff_letter='c',\n",
        "    b_iso=0.5,\n",
        ")"
      ]
    },
    {
      "cell_type": "markdown",
      "id": "30",
      "metadata": {
        "id": "30"
      },
      "source": [
        "#### Apply Symmetry Constraints"
      ]
    },
    {
      "cell_type": "code",
      "execution_count": null,
      "id": "31",
      "metadata": {
        "id": "31"
      },
      "outputs": [],
      "source": [
        "project.sample_models['lbco'].apply_symmetry_constraints()"
      ]
    },
    {
      "cell_type": "markdown",
      "id": "32",
      "metadata": {
        "id": "32"
      },
      "source": [
        "#### Show Sample Model as CIF"
      ]
    },
    {
      "cell_type": "code",
      "execution_count": null,
      "id": "33",
      "metadata": {
        "id": "33"
      },
      "outputs": [],
      "source": [
        "project.sample_models['lbco'].show_as_cif()"
      ]
    },
    {
      "cell_type": "markdown",
      "id": "34",
      "metadata": {
        "id": "34"
      },
      "source": [
        "#### Show Sample Model Structure"
      ]
    },
    {
      "cell_type": "code",
      "execution_count": null,
      "id": "35",
      "metadata": {
        "id": "35"
      },
      "outputs": [],
      "source": [
        "project.sample_models['lbco'].show_structure()"
      ]
    },
    {
      "cell_type": "markdown",
      "id": "36",
      "metadata": {
        "id": "36"
      },
      "source": [
        "#### Save Project State\n",
        "\n",
        "Save the project state after adding the sample model. This ensures\n",
        "that all changes are stored and can be accessed later. The project\n",
        "state is saved in the directory specified during project creation."
      ]
    },
    {
      "cell_type": "code",
      "execution_count": null,
      "id": "37",
      "metadata": {
        "id": "37"
      },
      "outputs": [],
      "source": [
        "project.save()"
      ]
    },
    {
      "cell_type": "markdown",
      "id": "38",
      "metadata": {
        "id": "38"
      },
      "source": [
        "## Step 3: Define Experiment\n",
        "\n",
        "This section shows how to add experiments, configure their parameters, and\n",
        "link the sample models defined in the previous step."
      ]
    },
    {
      "cell_type": "markdown",
      "id": "39",
      "metadata": {
        "id": "39"
      },
      "source": [
        "#### Download Measured Data\n",
        "\n",
        "Download the data file from the EasyDiffraction repository on GitHub."
      ]
    },
    {
      "cell_type": "code",
      "execution_count": null,
      "id": "40",
      "metadata": {
        "id": "40"
      },
      "outputs": [],
      "source": [
        "ed.download_from_repository('hrpt_lbco.xye', destination='data')"
      ]
    },
    {
      "cell_type": "markdown",
      "id": "41",
      "metadata": {
        "id": "41"
      },
      "source": [
        "#### Add Diffraction Experiment"
      ]
    },
    {
      "cell_type": "code",
      "execution_count": null,
      "id": "42",
      "metadata": {
        "id": "42"
      },
      "outputs": [],
      "source": [
        "project.experiments.add(\n",
        "    name='hrpt',\n",
        "    sample_form='powder',\n",
        "    beam_mode='constant wavelength',\n",
        "    radiation_probe='neutron',\n",
        "    data_path='data/hrpt_lbco.xye',\n",
        ")"
      ]
    },
    {
      "cell_type": "markdown",
      "id": "43",
      "metadata": {
        "id": "43"
      },
      "source": [
        "#### Show Defined Experiments"
      ]
    },
    {
      "cell_type": "code",
      "execution_count": null,
      "id": "44",
      "metadata": {
        "id": "44"
      },
      "outputs": [],
      "source": [
        "project.experiments.show_names()"
      ]
    },
    {
      "cell_type": "markdown",
      "id": "45",
      "metadata": {
        "id": "45"
      },
      "source": [
        "#### Show Measured Data"
      ]
    },
    {
      "cell_type": "code",
      "execution_count": null,
      "id": "46",
      "metadata": {
        "id": "46"
      },
      "outputs": [],
      "source": [
        "project.plot_meas(expt_name='hrpt')"
      ]
    },
    {
      "cell_type": "markdown",
      "id": "47",
      "metadata": {
        "id": "47"
      },
      "source": [
        "#### Set Instrument\n",
        "\n",
        "Modify the default instrument parameters."
      ]
    },
    {
      "cell_type": "code",
      "execution_count": null,
      "id": "48",
      "metadata": {
        "id": "48"
      },
      "outputs": [],
      "source": [
        "project.experiments['hrpt'].instrument.setup_wavelength = 1.494\n",
        "project.experiments['hrpt'].instrument.calib_twotheta_offset = 0.6"
      ]
    },
    {
      "cell_type": "markdown",
      "id": "49",
      "metadata": {
        "id": "49"
      },
      "source": [
        "#### Set Peak Profile\n",
        "\n",
        "Show supported peak profile types."
      ]
    },
    {
      "cell_type": "code",
      "execution_count": null,
      "id": "50",
      "metadata": {
        "id": "50"
      },
      "outputs": [],
      "source": [
        "project.experiments['hrpt'].show_supported_peak_profile_types()"
      ]
    },
    {
      "cell_type": "markdown",
      "id": "51",
      "metadata": {
        "id": "51"
      },
      "source": [
        "Show the current peak profile type."
      ]
    },
    {
      "cell_type": "code",
      "execution_count": null,
      "id": "52",
      "metadata": {
        "id": "52"
      },
      "outputs": [],
      "source": [
        "project.experiments['hrpt'].show_current_peak_profile_type()"
      ]
    },
    {
      "cell_type": "markdown",
      "id": "53",
      "metadata": {
        "id": "53"
      },
      "source": [
        "Select the desired peak profile type."
      ]
    },
    {
      "cell_type": "code",
      "execution_count": null,
      "id": "54",
      "metadata": {
        "id": "54"
      },
      "outputs": [],
      "source": [
        "project.experiments['hrpt'].peak_profile_type = 'pseudo-voigt'"
      ]
    },
    {
      "cell_type": "markdown",
      "id": "55",
      "metadata": {
        "id": "55"
      },
      "source": [
        "Modify default peak profile parameters."
      ]
    },
    {
      "cell_type": "code",
      "execution_count": null,
      "id": "56",
      "metadata": {
        "id": "56"
      },
      "outputs": [],
      "source": [
        "project.experiments['hrpt'].peak.broad_gauss_u = 0.1\n",
        "project.experiments['hrpt'].peak.broad_gauss_v = -0.1\n",
        "project.experiments['hrpt'].peak.broad_gauss_w = 0.1\n",
        "project.experiments['hrpt'].peak.broad_lorentz_x = 0\n",
        "project.experiments['hrpt'].peak.broad_lorentz_y = 0.1"
      ]
    },
    {
      "cell_type": "markdown",
      "id": "57",
      "metadata": {
        "id": "57"
      },
      "source": [
        "#### Set Background"
      ]
    },
    {
      "cell_type": "markdown",
      "id": "58",
      "metadata": {
        "id": "58"
      },
      "source": [
        "Show supported background types."
      ]
    },
    {
      "cell_type": "code",
      "execution_count": null,
      "id": "59",
      "metadata": {
        "id": "59"
      },
      "outputs": [],
      "source": [
        "project.experiments['hrpt'].show_supported_background_types()"
      ]
    },
    {
      "cell_type": "markdown",
      "id": "60",
      "metadata": {
        "id": "60"
      },
      "source": [
        "Show current background type."
      ]
    },
    {
      "cell_type": "code",
      "execution_count": null,
      "id": "61",
      "metadata": {
        "id": "61"
      },
      "outputs": [],
      "source": [
        "project.experiments['hrpt'].show_current_background_type()"
      ]
    },
    {
      "cell_type": "markdown",
      "id": "62",
      "metadata": {
        "id": "62"
      },
      "source": [
        "Select the desired background type."
      ]
    },
    {
      "cell_type": "code",
      "execution_count": null,
      "id": "63",
      "metadata": {
        "id": "63"
      },
      "outputs": [],
      "source": [
        "project.experiments['hrpt'].background_type = 'line-segment'"
      ]
    },
    {
      "cell_type": "markdown",
      "id": "64",
      "metadata": {
        "id": "64"
      },
      "source": [
        "Add background points."
      ]
    },
    {
      "cell_type": "code",
      "execution_count": null,
      "id": "65",
      "metadata": {
        "id": "65"
      },
      "outputs": [],
      "source": [
        "project.experiments['hrpt'].background.add(x=10, y=170)\n",
        "project.experiments['hrpt'].background.add(x=30, y=170)\n",
        "project.experiments['hrpt'].background.add(x=50, y=170)\n",
        "project.experiments['hrpt'].background.add(x=110, y=170)\n",
        "project.experiments['hrpt'].background.add(x=165, y=170)"
      ]
    },
    {
      "cell_type": "markdown",
      "id": "66",
      "metadata": {
        "id": "66"
      },
      "source": [
        "Show current background points."
      ]
    },
    {
      "cell_type": "code",
      "execution_count": null,
      "id": "67",
      "metadata": {
        "id": "67"
      },
      "outputs": [],
      "source": [
        "project.experiments['hrpt'].background.show()"
      ]
    },
    {
      "cell_type": "markdown",
      "id": "68",
      "metadata": {
        "id": "68"
      },
      "source": [
        "#### Set Linked Phases\n",
        "\n",
        "Link the sample model defined in the previous step to the experiment."
      ]
    },
    {
      "cell_type": "code",
      "execution_count": null,
      "id": "69",
      "metadata": {
        "id": "69"
      },
      "outputs": [],
      "source": [
        "project.experiments['hrpt'].linked_phases.add(id='lbco', scale=10.0)"
      ]
    },
    {
      "cell_type": "markdown",
      "id": "70",
      "metadata": {
        "id": "70"
      },
      "source": [
        "#### Show Experiment as CIF"
      ]
    },
    {
      "cell_type": "code",
      "execution_count": null,
      "id": "71",
      "metadata": {
        "id": "71"
      },
      "outputs": [],
      "source": [
        "project.experiments['hrpt'].show_as_cif()"
      ]
    },
    {
      "cell_type": "markdown",
      "id": "72",
      "metadata": {
        "id": "72"
      },
      "source": [
        "#### Save Project State"
      ]
    },
    {
      "cell_type": "code",
      "execution_count": null,
      "id": "73",
      "metadata": {
        "id": "73"
      },
      "outputs": [],
      "source": [
        "project.save()"
      ]
    },
    {
      "cell_type": "markdown",
      "id": "74",
      "metadata": {
        "id": "74"
      },
      "source": [
        "## Step 4: Perform Analysis\n",
        "\n",
        "This section explains the analysis process, including how to set up\n",
        "calculation and fitting engines.\n",
        "\n",
        "#### Set Calculator\n",
        "\n",
        "Show supported calculation engines."
      ]
    },
    {
      "cell_type": "code",
      "execution_count": null,
      "id": "75",
      "metadata": {
        "id": "75"
      },
      "outputs": [],
      "source": [
        "project.analysis.show_supported_calculators()"
      ]
    },
    {
      "cell_type": "markdown",
      "id": "76",
      "metadata": {
        "id": "76"
      },
      "source": [
        "Show current calculation engine."
      ]
    },
    {
      "cell_type": "code",
      "execution_count": null,
      "id": "77",
      "metadata": {
        "id": "77"
      },
      "outputs": [],
      "source": [
        "project.analysis.show_current_calculator()"
      ]
    },
    {
      "cell_type": "markdown",
      "id": "78",
      "metadata": {
        "id": "78"
      },
      "source": [
        "Select the desired calculation engine."
      ]
    },
    {
      "cell_type": "code",
      "execution_count": null,
      "id": "79",
      "metadata": {
        "id": "79"
      },
      "outputs": [],
      "source": [
        "project.analysis.current_calculator = 'cryspy'"
      ]
    },
    {
      "cell_type": "markdown",
      "id": "80",
      "metadata": {
        "id": "80"
      },
      "source": [
        "#### Show Calculated Data"
      ]
    },
    {
      "cell_type": "code",
      "execution_count": null,
      "id": "81",
      "metadata": {
        "id": "81"
      },
      "outputs": [],
      "source": [
        "project.plot_calc(expt_name='hrpt')"
      ]
    },
    {
      "cell_type": "markdown",
      "id": "82",
      "metadata": {
        "id": "82"
      },
      "source": [
        "#### Plot Measured vs Calculated"
      ]
    },
    {
      "cell_type": "code",
      "execution_count": null,
      "id": "83",
      "metadata": {
        "id": "83"
      },
      "outputs": [],
      "source": [
        "project.plot_meas_vs_calc(expt_name='hrpt', show_residual=True)"
      ]
    },
    {
      "cell_type": "code",
      "execution_count": null,
      "id": "84",
      "metadata": {
        "id": "84"
      },
      "outputs": [],
      "source": [
        "project.plot_meas_vs_calc(expt_name='hrpt', x_min=38, x_max=41, show_residual=True)"
      ]
    },
    {
      "cell_type": "markdown",
      "id": "85",
      "metadata": {
        "id": "85"
      },
      "source": [
        "#### Show Parameters\n",
        "\n",
        "Show all parameters of the project."
      ]
    },
    {
      "cell_type": "code",
      "execution_count": null,
      "id": "86",
      "metadata": {
        "id": "86"
      },
      "outputs": [],
      "source": [
        "project.analysis.show_all_params()"
      ]
    },
    {
      "cell_type": "markdown",
      "id": "87",
      "metadata": {
        "id": "87"
      },
      "source": [
        "Show all fittable parameters."
      ]
    },
    {
      "cell_type": "code",
      "execution_count": null,
      "id": "88",
      "metadata": {
        "id": "88"
      },
      "outputs": [],
      "source": [
        "project.analysis.show_fittable_params()"
      ]
    },
    {
      "cell_type": "markdown",
      "id": "89",
      "metadata": {
        "id": "89"
      },
      "source": [
        "Show only free parameters."
      ]
    },
    {
      "cell_type": "code",
      "execution_count": null,
      "id": "90",
      "metadata": {
        "id": "90"
      },
      "outputs": [],
      "source": [
        "project.analysis.show_free_params()"
      ]
    },
    {
      "cell_type": "markdown",
      "id": "91",
      "metadata": {
        "id": "91"
      },
      "source": [
        "Show how to access parameters in the code."
      ]
    },
    {
      "cell_type": "code",
      "execution_count": null,
      "id": "92",
      "metadata": {
        "id": "92"
      },
      "outputs": [],
      "source": [
        "project.analysis.how_to_access_parameters()"
      ]
    },
    {
      "cell_type": "markdown",
      "id": "93",
      "metadata": {
        "id": "93"
      },
      "source": [
        "#### Set Fit Mode\n",
        "\n",
        "Show supported fit modes."
      ]
    },
    {
      "cell_type": "code",
      "execution_count": null,
      "id": "94",
      "metadata": {
        "id": "94"
      },
      "outputs": [],
      "source": [
        "project.analysis.show_available_fit_modes()"
      ]
    },
    {
      "cell_type": "markdown",
      "id": "95",
      "metadata": {
        "id": "95"
      },
      "source": [
        "Show current fit mode."
      ]
    },
    {
      "cell_type": "code",
      "execution_count": null,
      "id": "96",
      "metadata": {
        "id": "96"
      },
      "outputs": [],
      "source": [
        "project.analysis.show_current_fit_mode()"
      ]
    },
    {
      "cell_type": "markdown",
      "id": "97",
      "metadata": {
        "id": "97"
      },
      "source": [
        "Select desired fit mode."
      ]
    },
    {
      "cell_type": "code",
      "execution_count": null,
      "id": "98",
      "metadata": {
        "id": "98"
      },
      "outputs": [],
      "source": [
        "project.analysis.fit_mode = 'single'"
      ]
    },
    {
      "cell_type": "markdown",
      "id": "99",
      "metadata": {
        "id": "99"
      },
      "source": [
        "#### Set Minimizer\n",
        "\n",
        "Show supported fitting engines."
      ]
    },
    {
      "cell_type": "code",
      "execution_count": null,
      "id": "100",
      "metadata": {
        "id": "100"
      },
      "outputs": [],
      "source": [
        "project.analysis.show_available_minimizers()"
      ]
    },
    {
      "cell_type": "markdown",
      "id": "101",
      "metadata": {
        "id": "101"
      },
      "source": [
        "Show current fitting engine."
      ]
    },
    {
      "cell_type": "code",
      "execution_count": null,
      "id": "102",
      "metadata": {
        "id": "102"
      },
      "outputs": [],
      "source": [
        "project.analysis.show_current_minimizer()"
      ]
    },
    {
      "cell_type": "markdown",
      "id": "103",
      "metadata": {
        "id": "103"
      },
      "source": [
        "Select desired fitting engine."
      ]
    },
    {
      "cell_type": "code",
      "execution_count": null,
      "id": "104",
      "metadata": {
        "id": "104"
      },
      "outputs": [],
      "source": [
        "project.analysis.current_minimizer = 'lmfit (leastsq)'"
      ]
    },
    {
      "cell_type": "markdown",
      "id": "105",
      "metadata": {
        "id": "105"
      },
      "source": [
        "### Perform Fit 1/5\n",
        "\n",
        "Set sample model parameters to be refined."
      ]
    },
    {
      "cell_type": "code",
      "execution_count": null,
      "id": "106",
      "metadata": {
        "id": "106"
      },
      "outputs": [],
      "source": [
        "project.sample_models['lbco'].cell.length_a.free = True"
      ]
    },
    {
      "cell_type": "markdown",
      "id": "107",
      "metadata": {
        "id": "107"
      },
      "source": [
        "Set experiment parameters to be refined."
      ]
    },
    {
      "cell_type": "code",
      "execution_count": null,
      "id": "108",
      "metadata": {
        "id": "108"
      },
      "outputs": [],
      "source": [
        "project.experiments['hrpt'].linked_phases['lbco'].scale.free = True\n",
        "project.experiments['hrpt'].instrument.calib_twotheta_offset.free = True\n",
        "project.experiments['hrpt'].background['10'].y.free = True\n",
        "project.experiments['hrpt'].background['30'].y.free = True\n",
        "project.experiments['hrpt'].background['50'].y.free = True\n",
        "project.experiments['hrpt'].background['110'].y.free = True\n",
        "project.experiments['hrpt'].background['165'].y.free = True"
      ]
    },
    {
      "cell_type": "markdown",
      "id": "109",
      "metadata": {
        "id": "109"
      },
      "source": [
        "Show free parameters after selection."
      ]
    },
    {
      "cell_type": "code",
      "execution_count": null,
      "id": "110",
      "metadata": {
        "id": "110"
      },
      "outputs": [],
      "source": [
        "project.analysis.show_free_params()"
      ]
    },
    {
      "cell_type": "markdown",
      "id": "111",
      "metadata": {
        "id": "111"
      },
      "source": [
        "#### Run Fitting"
      ]
    },
    {
      "cell_type": "code",
      "execution_count": null,
      "id": "112",
      "metadata": {
        "id": "112"
      },
      "outputs": [],
      "source": [
        "project.analysis.fit()"
      ]
    },
    {
      "cell_type": "markdown",
      "id": "113",
      "metadata": {
        "id": "113"
      },
      "source": [
        "#### Plot Measured vs Calculated"
      ]
    },
    {
      "cell_type": "code",
      "execution_count": null,
      "id": "114",
      "metadata": {
        "id": "114"
      },
      "outputs": [],
      "source": [
        "project.plot_meas_vs_calc(expt_name='hrpt', show_residual=True)"
      ]
    },
    {
      "cell_type": "code",
      "execution_count": null,
      "id": "115",
      "metadata": {
        "id": "115"
      },
      "outputs": [],
      "source": [
        "project.plot_meas_vs_calc(expt_name='hrpt', x_min=38, x_max=41, show_residual=True)"
      ]
    },
    {
      "cell_type": "markdown",
      "id": "116",
      "metadata": {
        "id": "116"
      },
      "source": [
        "#### Save Project State"
      ]
    },
    {
      "cell_type": "code",
      "execution_count": null,
      "id": "117",
      "metadata": {
        "id": "117"
      },
      "outputs": [],
      "source": [
        "project.save_as(dir_path='lbco_hrpt', temporary=True)"
      ]
    },
    {
      "cell_type": "markdown",
      "id": "118",
      "metadata": {
        "id": "118"
      },
      "source": [
        "### Perform Fit 2/5\n",
        "\n",
        "Set more parameters to be refined."
      ]
    },
    {
      "cell_type": "code",
      "execution_count": null,
      "id": "119",
      "metadata": {
        "id": "119"
      },
      "outputs": [],
      "source": [
        "project.experiments['hrpt'].peak.broad_gauss_u.free = True\n",
        "project.experiments['hrpt'].peak.broad_gauss_v.free = True\n",
        "project.experiments['hrpt'].peak.broad_gauss_w.free = True\n",
        "project.experiments['hrpt'].peak.broad_lorentz_y.free = True"
      ]
    },
    {
      "cell_type": "markdown",
      "id": "120",
      "metadata": {
        "id": "120"
      },
      "source": [
        "Show free parameters after selection."
      ]
    },
    {
      "cell_type": "code",
      "execution_count": null,
      "id": "121",
      "metadata": {
        "id": "121"
      },
      "outputs": [],
      "source": [
        "project.analysis.show_free_params()"
      ]
    },
    {
      "cell_type": "markdown",
      "id": "122",
      "metadata": {
        "id": "122"
      },
      "source": [
        "#### Run Fitting"
      ]
    },
    {
      "cell_type": "code",
      "execution_count": null,
      "id": "123",
      "metadata": {
        "id": "123"
      },
      "outputs": [],
      "source": [
        "project.analysis.fit()"
      ]
    },
    {
      "cell_type": "markdown",
      "id": "124",
      "metadata": {
        "id": "124"
      },
      "source": [
        "#### Plot Measured vs Calculated"
      ]
    },
    {
      "cell_type": "code",
      "execution_count": null,
      "id": "125",
      "metadata": {
        "id": "125"
      },
      "outputs": [],
      "source": [
        "project.plot_meas_vs_calc(expt_name='hrpt', show_residual=True)"
      ]
    },
    {
      "cell_type": "code",
      "execution_count": null,
      "id": "126",
      "metadata": {
        "id": "126"
      },
      "outputs": [],
      "source": [
        "project.plot_meas_vs_calc(expt_name='hrpt', x_min=38, x_max=41, show_residual=True)"
      ]
    },
    {
      "cell_type": "markdown",
      "id": "127",
      "metadata": {
        "id": "127"
      },
      "source": [
        "#### Save Project State"
      ]
    },
    {
      "cell_type": "code",
      "execution_count": null,
      "id": "128",
      "metadata": {
        "id": "128"
      },
      "outputs": [],
      "source": [
        "project.save_as(dir_path='lbco_hrpt', temporary=True)"
      ]
    },
    {
      "cell_type": "markdown",
      "id": "129",
      "metadata": {
        "id": "129"
      },
      "source": [
        "### Perform Fit 3/5\n",
        "\n",
        "Set more parameters to be refined."
      ]
    },
    {
      "cell_type": "code",
      "execution_count": null,
      "id": "130",
      "metadata": {
        "id": "130"
      },
      "outputs": [],
      "source": [
        "project.sample_models['lbco'].atom_sites['La'].b_iso.free = True\n",
        "project.sample_models['lbco'].atom_sites['Ba'].b_iso.free = True\n",
        "project.sample_models['lbco'].atom_sites['Co'].b_iso.free = True\n",
        "project.sample_models['lbco'].atom_sites['O'].b_iso.free = True"
      ]
    },
    {
      "cell_type": "markdown",
      "id": "131",
      "metadata": {
        "id": "131"
      },
      "source": [
        "Show free parameters after selection."
      ]
    },
    {
      "cell_type": "code",
      "execution_count": null,
      "id": "132",
      "metadata": {
        "id": "132"
      },
      "outputs": [],
      "source": [
        "project.analysis.show_free_params()"
      ]
    },
    {
      "cell_type": "markdown",
      "id": "133",
      "metadata": {
        "id": "133"
      },
      "source": [
        "#### Run Fitting"
      ]
    },
    {
      "cell_type": "code",
      "execution_count": null,
      "id": "134",
      "metadata": {
        "id": "134"
      },
      "outputs": [],
      "source": [
        "project.analysis.fit()"
      ]
    },
    {
      "cell_type": "markdown",
      "id": "135",
      "metadata": {
        "id": "135"
      },
      "source": [
        "#### Plot Measured vs Calculated"
      ]
    },
    {
      "cell_type": "code",
      "execution_count": null,
      "id": "136",
      "metadata": {
        "id": "136"
      },
      "outputs": [],
      "source": [
        "project.plot_meas_vs_calc(expt_name='hrpt', show_residual=True)"
      ]
    },
    {
      "cell_type": "code",
      "execution_count": null,
      "id": "137",
      "metadata": {
        "id": "137"
      },
      "outputs": [],
      "source": [
        "project.plot_meas_vs_calc(expt_name='hrpt', x_min=38, x_max=41, show_residual=True)"
      ]
    },
    {
      "cell_type": "markdown",
      "id": "138",
      "metadata": {
        "id": "138"
      },
      "source": [
        "#### Save Project State"
      ]
    },
    {
      "cell_type": "code",
      "execution_count": null,
      "id": "139",
      "metadata": {
        "id": "139"
      },
      "outputs": [],
      "source": [
        "project.save_as(dir_path='lbco_hrpt', temporary=True)"
      ]
    },
    {
      "cell_type": "markdown",
      "id": "140",
      "metadata": {
        "id": "140"
      },
      "source": [
        "### Perform Fit 4/5\n",
        "\n",
        "#### Set Constraints\n",
        "\n",
        "Set aliases for parameters."
      ]
    },
    {
      "cell_type": "code",
      "execution_count": null,
      "id": "141",
      "metadata": {
        "id": "141"
      },
      "outputs": [],
      "source": [
        "project.analysis.aliases.add(label='biso_La', param_uid=project.sample_models['lbco'].atom_sites['La'].b_iso.uid)\n",
        "project.analysis.aliases.add(label='biso_Ba', param_uid=project.sample_models['lbco'].atom_sites['Ba'].b_iso.uid)"
      ]
    },
    {
      "cell_type": "markdown",
      "id": "142",
      "metadata": {
        "id": "142"
      },
      "source": [
        "Set constraints."
      ]
    },
    {
      "cell_type": "code",
      "execution_count": null,
      "id": "143",
      "metadata": {
        "id": "143"
      },
      "outputs": [],
      "source": [
        "project.analysis.constraints.add(lhs_alias='biso_Ba', rhs_expr='biso_La')"
      ]
    },
    {
      "cell_type": "markdown",
      "id": "144",
      "metadata": {
        "id": "144"
      },
      "source": [
        "Show defined constraints."
      ]
    },
    {
      "cell_type": "code",
      "execution_count": null,
      "id": "145",
      "metadata": {
        "id": "145"
      },
      "outputs": [],
      "source": [
        "project.analysis.show_constraints()"
      ]
    },
    {
      "cell_type": "markdown",
      "id": "146",
      "metadata": {
        "id": "146"
      },
      "source": [
        "Show free parameters before applying constraints."
      ]
    },
    {
      "cell_type": "code",
      "execution_count": null,
      "id": "147",
      "metadata": {
        "id": "147"
      },
      "outputs": [],
      "source": [
        "project.analysis.show_free_params()"
      ]
    },
    {
      "cell_type": "markdown",
      "id": "148",
      "metadata": {
        "id": "148"
      },
      "source": [
        "Apply constraints."
      ]
    },
    {
      "cell_type": "code",
      "execution_count": null,
      "id": "149",
      "metadata": {
        "id": "149"
      },
      "outputs": [],
      "source": [
        "project.analysis.apply_constraints()"
      ]
    },
    {
      "cell_type": "markdown",
      "id": "150",
      "metadata": {
        "id": "150"
      },
      "source": [
        "Show free parameters after applying constraints."
      ]
    },
    {
      "cell_type": "code",
      "execution_count": null,
      "id": "151",
      "metadata": {
        "id": "151"
      },
      "outputs": [],
      "source": [
        "project.analysis.show_free_params()"
      ]
    },
    {
      "cell_type": "markdown",
      "id": "152",
      "metadata": {
        "id": "152"
      },
      "source": [
        "#### Run Fitting"
      ]
    },
    {
      "cell_type": "code",
      "execution_count": null,
      "id": "153",
      "metadata": {
        "id": "153"
      },
      "outputs": [],
      "source": [
        "project.analysis.fit()"
      ]
    },
    {
      "cell_type": "markdown",
      "id": "154",
      "metadata": {
        "id": "154"
      },
      "source": [
        "#### Plot Measured vs Calculated"
      ]
    },
    {
      "cell_type": "code",
      "execution_count": null,
      "id": "155",
      "metadata": {
        "id": "155"
      },
      "outputs": [],
      "source": [
        "project.plot_meas_vs_calc(expt_name='hrpt', show_residual=True)"
      ]
    },
    {
      "cell_type": "code",
      "execution_count": null,
      "id": "156",
      "metadata": {
        "id": "156"
      },
      "outputs": [],
      "source": [
        "project.plot_meas_vs_calc(expt_name='hrpt', x_min=38, x_max=41, show_residual=True)"
      ]
    },
    {
      "cell_type": "markdown",
      "id": "157",
      "metadata": {
        "id": "157"
      },
      "source": [
        "#### Save Project State"
      ]
    },
    {
      "cell_type": "code",
      "execution_count": null,
      "id": "158",
      "metadata": {
        "id": "158"
      },
      "outputs": [],
      "source": [
        "project.save_as(dir_path='lbco_hrpt', temporary=True)"
      ]
    },
    {
      "cell_type": "markdown",
      "id": "159",
      "metadata": {
        "id": "159"
      },
      "source": [
        "### Perform Fit 5/5\n",
        "\n",
        "#### Set Constraints\n",
        "\n",
        "Set more aliases for parameters."
      ]
    },
    {
      "cell_type": "code",
      "execution_count": null,
      "id": "160",
      "metadata": {
        "id": "160"
      },
      "outputs": [],
      "source": [
        "project.analysis.aliases.add(\n",
        "    label='occ_La',\n",
        "    param_uid=project.sample_models['lbco'].atom_sites['La'].occupancy.uid,\n",
        ")\n",
        "project.analysis.aliases.add(\n",
        "    label='occ_Ba',\n",
        "    param_uid=project.sample_models['lbco'].atom_sites['Ba'].occupancy.uid,\n",
        ")"
      ]
    },
    {
      "cell_type": "markdown",
      "id": "161",
      "metadata": {
        "id": "161"
      },
      "source": [
        "Set more constraints."
      ]
    },
    {
      "cell_type": "code",
      "execution_count": null,
      "id": "162",
      "metadata": {
        "id": "162"
      },
      "outputs": [],
      "source": [
        "project.analysis.constraints.add(\n",
        "    lhs_alias='occ_Ba',\n",
        "    rhs_expr='1 - occ_La',\n",
        ")"
      ]
    },
    {
      "cell_type": "markdown",
      "id": "163",
      "metadata": {
        "id": "163"
      },
      "source": [
        "Show defined constraints."
      ]
    },
    {
      "cell_type": "code",
      "execution_count": null,
      "id": "164",
      "metadata": {
        "id": "164"
      },
      "outputs": [],
      "source": [
        "project.analysis.show_constraints()"
      ]
    },
    {
      "cell_type": "markdown",
      "id": "165",
      "metadata": {
        "id": "165"
      },
      "source": [
        "Apply constraints."
      ]
    },
    {
      "cell_type": "code",
      "execution_count": null,
      "id": "166",
      "metadata": {
        "id": "166"
      },
      "outputs": [],
      "source": [
        "project.analysis.apply_constraints()"
      ]
    },
    {
      "cell_type": "markdown",
      "id": "167",
      "metadata": {
        "id": "167"
      },
      "source": [
        "Set sample model parameters to be refined."
      ]
    },
    {
      "cell_type": "code",
      "execution_count": null,
      "id": "168",
      "metadata": {
        "id": "168"
      },
      "outputs": [],
      "source": [
        "project.sample_models['lbco'].atom_sites['La'].occupancy.free = True"
      ]
    },
    {
      "cell_type": "markdown",
      "id": "169",
      "metadata": {
        "id": "169"
      },
      "source": [
        "Show free parameters after selection."
      ]
    },
    {
      "cell_type": "code",
      "execution_count": null,
      "id": "170",
      "metadata": {
        "id": "170"
      },
      "outputs": [],
      "source": [
        "project.analysis.show_free_params()"
      ]
    },
    {
      "cell_type": "markdown",
      "id": "171",
      "metadata": {
        "id": "171"
      },
      "source": [
        "#### Run Fitting"
      ]
    },
    {
      "cell_type": "code",
      "execution_count": null,
      "id": "172",
      "metadata": {
        "id": "172"
      },
      "outputs": [],
      "source": [
        "project.analysis.fit()"
      ]
    },
    {
      "cell_type": "markdown",
      "id": "173",
      "metadata": {
        "id": "173"
      },
      "source": [
        "#### Plot Measured vs Calculated"
      ]
    },
    {
      "cell_type": "code",
      "execution_count": null,
      "id": "174",
      "metadata": {
        "id": "174"
      },
      "outputs": [],
      "source": [
        "project.plot_meas_vs_calc(expt_name='hrpt', show_residual=True)"
      ]
    },
    {
      "cell_type": "code",
      "execution_count": null,
      "id": "175",
      "metadata": {
        "id": "175"
      },
      "outputs": [],
      "source": [
        "project.plot_meas_vs_calc(expt_name='hrpt', x_min=38, x_max=41, show_residual=True)"
      ]
    },
    {
      "cell_type": "markdown",
      "id": "176",
      "metadata": {
        "id": "176"
      },
      "source": [
        "#### Save Project State"
      ]
    },
    {
      "cell_type": "code",
      "execution_count": null,
      "id": "177",
      "metadata": {
        "id": "177"
      },
      "outputs": [],
      "source": [
        "project.save_as(dir_path='lbco_hrpt', temporary=True)"
      ]
    },
    {
      "cell_type": "markdown",
      "id": "178",
      "metadata": {
        "id": "178"
      },
      "source": [
        "## Step 5: Summary\n",
        "\n",
        "This final section shows how to review the results of the analysis."
      ]
    },
    {
      "cell_type": "markdown",
      "id": "179",
      "metadata": {
        "id": "179"
      },
      "source": [
        "#### Show Project Summary"
      ]
    },
    {
      "cell_type": "code",
      "execution_count": null,
      "id": "180",
      "metadata": {
        "id": "180"
      },
      "outputs": [],
      "source": [
        "project.summary.show_report()"
      ]
    }
  ],
  "metadata": {
    "jupytext": {
      "cell_metadata_filter": "-all",
      "main_language": "python",
      "notebook_metadata_filter": "-all"
    },
    "colab": {
      "provenance": []
    },
    "language_info": {
      "name": "python"
    },
    "kernelspec": {
      "name": "python3",
      "display_name": "Python 3"
    },
    "widgets": {
      "application/vnd.jupyter.widget-state+json": {
        "62ee3f82157847d387e8547957bd79dd": {
          "model_module": "nglview-js-widgets",
          "model_name": "NGLModel",
          "model_module_version": "3.1.4",
          "state": {
            "_camera_orientation": [],
            "_camera_str": "orthographic",
            "_dom_classes": [],
            "_gui_theme": null,
            "_ibtn_fullscreen": "IPY_MODEL_c675eac63a7b4d29b807309995592382",
            "_igui": null,
            "_iplayer": "IPY_MODEL_76452427833543f3bc26a67c293f69b2",
            "_model_module": "nglview-js-widgets",
            "_model_module_version": "3.1.4",
            "_model_name": "NGLModel",
            "_ngl_color_dict": {},
            "_ngl_coordinate_resource": {},
            "_ngl_full_stage_parameters": {},
            "_ngl_msg_archive": [
              {
                "target": "Stage",
                "type": "call_method",
                "methodName": "loadFile",
                "reconstruc_color_scheme": false,
                "args": [
                  {
                    "type": "blob",
                    "data": "CRYST1    3.567    3.567    3.567  90.00  90.00  90.00 P 1\nMODEL     1\nATOM      1    C MOL     1       0.000   0.000   0.000  1.00  0.00           C  \nATOM      2    C MOL     1       0.000   1.784   1.784  1.00  0.00           C  \nATOM      3    C MOL     1       1.784   1.784   0.000  1.00  0.00           C  \nATOM      4    C MOL     1       1.784   0.000   1.784  1.00  0.00           C  \nATOM      5    C MOL     1       2.675   0.892   2.675  1.00  0.00           C  \nATOM      6    C MOL     1       0.892   0.892   0.892  1.00  0.00           C  \nATOM      7    C MOL     1       0.892   2.675   2.675  1.00  0.00           C  \nATOM      8    C MOL     1       2.675   2.675   0.892  1.00  0.00           C  \nENDMDL\n",
                    "binary": false
                  }
                ],
                "kwargs": {
                  "defaultRepresentation": true,
                  "ext": "pdb"
                }
              }
            ],
            "_ngl_original_stage_parameters": {},
            "_ngl_repr_dict": {},
            "_ngl_serialize": false,
            "_ngl_version": "",
            "_ngl_view_id": [],
            "_player_dict": {},
            "_scene_position": {},
            "_scene_rotation": {},
            "_synced_model_ids": [],
            "_synced_repr_model_ids": [],
            "_view_count": null,
            "_view_height": "",
            "_view_module": "nglview-js-widgets",
            "_view_module_version": "3.1.4",
            "_view_name": "NGLView",
            "_view_width": "",
            "background": "white",
            "frame": 0,
            "gui_style": null,
            "layout": "IPY_MODEL_34af34f15bc448b5b5ebd7fe5ab48a9f",
            "max_frame": 0,
            "n_components": 0,
            "picked": {},
            "tabbable": null,
            "tooltip": null
          }
        },
        "6b9e6b7205de450b90f82236482f591b": {
          "model_module": "@jupyter-widgets/controls",
          "model_name": "PlayModel",
          "model_module_version": "2.0.0",
          "state": {
            "_dom_classes": [],
            "_model_module": "@jupyter-widgets/controls",
            "_model_module_version": "2.0.0",
            "_model_name": "PlayModel",
            "_view_count": null,
            "_view_module": "@jupyter-widgets/controls",
            "_view_module_version": "2.0.0",
            "_view_name": "PlayView",
            "description": "",
            "description_allow_html": false,
            "disabled": false,
            "interval": 100,
            "layout": "IPY_MODEL_95cf3276c0d14695876b14cea3c1c49b",
            "max": 0,
            "min": 0,
            "playing": false,
            "repeat": false,
            "show_repeat": true,
            "step": 1,
            "style": "IPY_MODEL_a2bac9a8f9d74e70836d2a860781d827",
            "tabbable": null,
            "tooltip": null,
            "value": 0
          }
        },
        "4d1f6b47ee764e779ac5737587b32f31": {
          "model_module": "@jupyter-widgets/controls",
          "model_name": "IntSliderModel",
          "model_module_version": "2.0.0",
          "state": {
            "_dom_classes": [],
            "_model_module": "@jupyter-widgets/controls",
            "_model_module_version": "2.0.0",
            "_model_name": "IntSliderModel",
            "_view_count": null,
            "_view_module": "@jupyter-widgets/controls",
            "_view_module_version": "2.0.0",
            "_view_name": "IntSliderView",
            "behavior": "drag-tap",
            "continuous_update": true,
            "description": "",
            "description_allow_html": false,
            "disabled": false,
            "layout": "IPY_MODEL_76d0c9f6c2764308a58d997ad3311570",
            "max": 0,
            "min": 0,
            "orientation": "horizontal",
            "readout": true,
            "readout_format": "d",
            "step": 1,
            "style": "IPY_MODEL_f164d2465cb64991966e12f2e0561557",
            "tabbable": null,
            "tooltip": null,
            "value": 0
          }
        },
        "95cf3276c0d14695876b14cea3c1c49b": {
          "model_module": "@jupyter-widgets/base",
          "model_name": "LayoutModel",
          "model_module_version": "2.0.0",
          "state": {
            "_model_module": "@jupyter-widgets/base",
            "_model_module_version": "2.0.0",
            "_model_name": "LayoutModel",
            "_view_count": null,
            "_view_module": "@jupyter-widgets/base",
            "_view_module_version": "2.0.0",
            "_view_name": "LayoutView",
            "align_content": null,
            "align_items": null,
            "align_self": null,
            "border_bottom": null,
            "border_left": null,
            "border_right": null,
            "border_top": null,
            "bottom": null,
            "display": null,
            "flex": null,
            "flex_flow": null,
            "grid_area": null,
            "grid_auto_columns": null,
            "grid_auto_flow": null,
            "grid_auto_rows": null,
            "grid_column": null,
            "grid_gap": null,
            "grid_row": null,
            "grid_template_areas": null,
            "grid_template_columns": null,
            "grid_template_rows": null,
            "height": null,
            "justify_content": null,
            "justify_items": null,
            "left": null,
            "margin": null,
            "max_height": null,
            "max_width": null,
            "min_height": null,
            "min_width": null,
            "object_fit": null,
            "object_position": null,
            "order": null,
            "overflow": null,
            "padding": null,
            "right": null,
            "top": null,
            "visibility": null,
            "width": null
          }
        },
        "a2bac9a8f9d74e70836d2a860781d827": {
          "model_module": "@jupyter-widgets/controls",
          "model_name": "DescriptionStyleModel",
          "model_module_version": "2.0.0",
          "state": {
            "_model_module": "@jupyter-widgets/controls",
            "_model_module_version": "2.0.0",
            "_model_name": "DescriptionStyleModel",
            "_view_count": null,
            "_view_module": "@jupyter-widgets/base",
            "_view_module_version": "2.0.0",
            "_view_name": "StyleView",
            "description_width": ""
          }
        },
        "76d0c9f6c2764308a58d997ad3311570": {
          "model_module": "@jupyter-widgets/base",
          "model_name": "LayoutModel",
          "model_module_version": "2.0.0",
          "state": {
            "_model_module": "@jupyter-widgets/base",
            "_model_module_version": "2.0.0",
            "_model_name": "LayoutModel",
            "_view_count": null,
            "_view_module": "@jupyter-widgets/base",
            "_view_module_version": "2.0.0",
            "_view_name": "LayoutView",
            "align_content": null,
            "align_items": null,
            "align_self": null,
            "border_bottom": null,
            "border_left": null,
            "border_right": null,
            "border_top": null,
            "bottom": null,
            "display": null,
            "flex": null,
            "flex_flow": null,
            "grid_area": null,
            "grid_auto_columns": null,
            "grid_auto_flow": null,
            "grid_auto_rows": null,
            "grid_column": null,
            "grid_gap": null,
            "grid_row": null,
            "grid_template_areas": null,
            "grid_template_columns": null,
            "grid_template_rows": null,
            "height": null,
            "justify_content": null,
            "justify_items": null,
            "left": null,
            "margin": null,
            "max_height": null,
            "max_width": null,
            "min_height": null,
            "min_width": null,
            "object_fit": null,
            "object_position": null,
            "order": null,
            "overflow": null,
            "padding": null,
            "right": null,
            "top": null,
            "visibility": null,
            "width": null
          }
        },
        "f164d2465cb64991966e12f2e0561557": {
          "model_module": "@jupyter-widgets/controls",
          "model_name": "SliderStyleModel",
          "model_module_version": "2.0.0",
          "state": {
            "_model_module": "@jupyter-widgets/controls",
            "_model_module_version": "2.0.0",
            "_model_name": "SliderStyleModel",
            "_view_count": null,
            "_view_module": "@jupyter-widgets/base",
            "_view_module_version": "2.0.0",
            "_view_name": "StyleView",
            "description_width": "",
            "handle_color": null
          }
        }
      }
    }
  },
  "nbformat": 4,
  "nbformat_minor": 5
}